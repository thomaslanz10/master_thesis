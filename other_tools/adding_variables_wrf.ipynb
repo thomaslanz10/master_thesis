{
 "cells": [
  {
   "cell_type": "code",
   "execution_count": null,
   "metadata": {},
   "outputs": [],
   "source": [
    "import os\n",
    "import xarray as xr\n",
    "from tqdm import tqdm\n",
    "from wrf import getvar\n",
    "import concurrent.futures\n",
    "from netCDF4 import Dataset"
   ]
  },
  {
   "cell_type": "code",
   "execution_count": null,
   "metadata": {},
   "outputs": [],
   "source": [
    "# Create a list of all WRF file directories\n",
    "case_study_name =  'case_study_5'\n",
    "save_folder = 'theta_cape_5'\n",
    "\n",
    "data_dir = '/scratch3/thomasl/work/data/{}/'.format(case_study_name)\n",
    "\n",
    "data_path= '/scratch3/thomasl/work/data/'\n",
    "\n",
    "wrflist = list()\n",
    "for (dirpath, dirnames, filenames) in os.walk(data_dir):\n",
    "    wrflist += [ os.path.join(dirpath, file) for file in filenames ]"
   ]
  },
  {
   "cell_type": "code",
   "execution_count": null,
   "metadata": {
    "scrolled": true
   },
   "outputs": [],
   "source": [
    "# Add the variable to the wrf files with multiprocessing\n",
    "\n",
    "def any_function(id):\n",
    "    data_path= '/scratch3/thomasl/work/data/'\n",
    "    \n",
    "    ncfile = Dataset(wrflist[id])\n",
    "    ds = xr.open_dataset(wrflist[id])\n",
    "\n",
    "    theta_e = getvar(ncfile, 'theta_e')\n",
    "    ds['theta_e'] = (['bottom_top', 'south_north', 'west_east'], theta_e)\n",
    "    ds[\"theta_e\"].attrs['units'] = 'K'\n",
    "    ds[\"theta_e\"].attrs['description'] = 'Equivalent Potential Temperture (K)'\n",
    "\n",
    "    ds_theta_cape = ds[['theta_e', 'U', 'V', 'W', 'XLONG', 'XLAT', 'PB', 'P', 'PH', 'PHB', 'HGT', 'COSALPHA', 'SINALPHA']]\n",
    "    ds_theta_cape.to_netcdf('{}{}/{}.nc'.format(data_path, save_folder, wrflist[id][-30:]),\n",
    "                        format='NETCDF3_64BIT', mode='w')\n",
    "    return id\n",
    "    \n",
    "def run(f, myIter):\n",
    "    with concurrent.futures.ProcessPoolExecutor() as executor:\n",
    "        results = list(tqdm(executor.map(f, myIter), total = len(myIter)))\n",
    "    return results\n",
    "\n",
    "results = run(any_function, range(len(wrflist)))\n",
    "\n",
    "result_as_list = list(results)"
   ]
  },
  {
   "cell_type": "code",
   "execution_count": null,
   "metadata": {},
   "outputs": [],
   "source": []
  }
 ],
 "metadata": {
  "kernelspec": {
   "display_name": "Python [conda env:anaconda_three-fut_env]",
   "language": "python",
   "name": "conda-env-anaconda_three-fut_env-py"
  },
  "language_info": {
   "codemirror_mode": {
    "name": "ipython",
    "version": 2
   },
   "file_extension": ".py",
   "mimetype": "text/x-python",
   "name": "python",
   "nbconvert_exporter": "python",
   "pygments_lexer": "ipython2",
   "version": "2.7.18"
  }
 },
 "nbformat": 4,
 "nbformat_minor": 2
}
