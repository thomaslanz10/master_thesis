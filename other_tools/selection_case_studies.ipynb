{
 "cells": [
  {
   "cell_type": "code",
   "execution_count": null,
   "metadata": {},
   "outputs": [],
   "source": [
    "import pandas as pd\n",
    "from netCDF4 import Dataset\n",
    "from wrf import getvar, latlon_coords, to_np, ll_to_xy, Constants\n",
    "import matplotlib.pyplot as plt\n",
    "import cartopy.crs as ccrs\n",
    "import numpy as np\n",
    "import cartopy.feature as cfeature\n",
    "import xarray as xr"
   ]
  },
  {
   "cell_type": "code",
   "execution_count": null,
   "metadata": {},
   "outputs": [],
   "source": [
    "# Preprocessing of TITAN data\n",
    "df = pd.read_csv(\"/scratch3/tim/wrf_4.0.1/P3/tracks/tracks_20180531.csv.gz\", sep=\",\", header=41)\n",
    "\n",
    "# Selcting cells lasting longer than 10 min (=600s)\n",
    "df_duration_600 = df[df[\"stormDuration\"] > 600]\n",
    "\n",
    "# Selcting cells initiated over Switzerland [5.9, 10.5, 45.75, 47.85]\n",
    "df_ch_min = df_duration_600[(df_duration_600['xCoord'] > 5.9) & (df_duration_600['yCoord'] > 45.75)]\n",
    "df_ch_max = df_ch_min[(df_ch_min['xCoord'] < 10.5) & (df_ch_min['yCoord'] < 47.85)]\n",
    "\n",
    "# Selcting cells with no parents\n",
    "df_np = df_ch_max[df_ch_max['nParents'] == 0]\n",
    "\n",
    "# Reset index\n",
    "df_np = df_np.reset_index()"
   ]
  },
  {
   "cell_type": "code",
   "execution_count": null,
   "metadata": {},
   "outputs": [],
   "source": [
    "# Selecting cells with highest maxZ values corresponding to sorting before\n",
    "df_np_maxZ = df_ch_max[(df_ch_max[\"maxZ\"]>57.4) & (df_ch_max[\"maxZ\"]<57.5)]\n",
    "\n",
    "print(df_np_maxZ[['stormID', 'trackID', 'originTime', 'timestamp', \"maxZ\", \n",
    "                                'xCoord', 'yCoord', 'nParents', 'lowdBZThreshold']])\n",
    "\n",
    "# Check highest maxZ values\n",
    "df_maxZ = df_np_maxZ[\"maxZ\"].sort_values()\n",
    "\n",
    "print(df_maxZ)"
   ]
  },
  {
   "cell_type": "code",
   "execution_count": null,
   "metadata": {},
   "outputs": [],
   "source": [
    "# Selecting cells with highest maxZ values corresponding to sorting before\n",
    "df_np_maxZ = df_np[(df_np[\"maxZ\"]>57.4) & (df_np[\"maxZ\"]<57.5)]\n",
    "\n",
    "print(df_np_maxZ[['stormID', 'trackID', 'originTime', 'timestamp', \"maxZ\", 'index', \n",
    "                                'xCoord', 'yCoord', 'nParents', 'lowdBZThreshold']])\n",
    "\n",
    "# Check highest maxZ values\n",
    "df_maxZ = df_np_maxZ[\"maxZ\"].sort_values()\n",
    "\n",
    "print(df_maxZ)"
   ]
  },
  {
   "cell_type": "code",
   "execution_count": null,
   "metadata": {
    "scrolled": false
   },
   "outputs": [],
   "source": [
    "stormID_1 = df_np[df_np['stormID']==17430] # maxZ = 58.3960 @ time step 1\n",
    "case_study_1 = df_np[df_np['index']==86737]\n",
    "\n",
    "stormID_2 = df_np[df_np['stormID']==4630] # maxZ  = 57.8741 @ time step 1\n",
    "case_study_2 = df_np[df_np['index']==22572]\n",
    "\n",
    "stormID_3 = df_np[df_np['stormID']==6361] # maxZ  = 57.5519 @ time step 1\n",
    "s3_ts = stormID_3[stormID_3['originTime']== '2018-05-12T20:15:00']\n",
    "case_study_3 = df_np[df_np['index']==31923]\n",
    "\n",
    "stormID_4 = df_np[df_np['stormID']==5242] # maxZ  = 57.4788 @ time step 4 (20 min after)\n",
    "s4_ts = stormID_4[stormID_4['originTime']== '2018-05-10T01:00:00']\n",
    "s4_maxZ = s4_ts[\"maxZ\"].sort_values()\n",
    "case_study_4 = df_np[df_np['index']==26206]\n",
    "\n",
    "stormID_5 = df_np[df_np['stormID']==27749] # maxZ  = 57.4781 @ time step 1\n",
    "s5_ts = stormID_5[stormID_5['originTime']== '2018-05-30T14:50:00']\n",
    "case_study_5 = df_np[df_np['index']==134068]\n",
    "\n",
    "case_study = case_study_3\n",
    "print(case_study[['stormID', 'trackID', 'xCoord', 'yCoord', 'index', 'stormDuration', \n",
    "             'timestamp', 'originTime', 'maxZ', 'nParents', 'nChildren']])"
   ]
  },
  {
   "cell_type": "code",
   "execution_count": null,
   "metadata": {},
   "outputs": [],
   "source": []
  },
  {
   "cell_type": "markdown",
   "metadata": {},
   "source": [
    "## Quick plots of the case study locations"
   ]
  },
  {
   "cell_type": "code",
   "execution_count": null,
   "metadata": {},
   "outputs": [],
   "source": [
    "# Make a function that deals with points which have longitudes > STAND_LON\n",
    "def rotated_ll_to_xy(wrfFile, latitude, longitude):\n",
    "    res = ll_to_xy(wrfFile, latitude=latitude, longitude=longitude)\n",
    "    diffPix = np.round((2*Constants.WRF_EARTH_RADIUS*Constants.PI)/wrfFile.DX,0)\n",
    "    xs = np.where(np.ravel(longitude) >= wrfFile.STAND_LON*-1, res[0]+diffPix, res[0])\n",
    "    res[0] = xs[0]\n",
    "    return(res)\n",
    "\n",
    "filename = '/scratch3/thomasl/work/data/case_study_1/' \\\n",
    "                'wrfout_d02_2018-05-22_17:00:00'\n",
    "\n",
    "initiation_location = [case_study.xCoord, case_study.yCoord]\n",
    "\n",
    "ncfile = Dataset(filename)\n",
    "wrf_file = xr.open_dataset(filename)\n",
    "data = wrf_file.HGT\n",
    "\n",
    "location = rotated_ll_to_xy(ncfile, initiation_location[1], initiation_location[0])\n",
    "data_point = data.sel(west_east=location[0], south_north=location[1])\n",
    "hgt = data_point.values\n",
    "print('Terrain height: {} m'.format(hgt))"
   ]
  },
  {
   "cell_type": "code",
   "execution_count": null,
   "metadata": {
    "scrolled": true
   },
   "outputs": [],
   "source": [
    "# Plot all initiations selected before\n",
    "wrfFile = Dataset('/scratch3/thomasl/work/data/case_study_4/wrfout_d02_2018-05-10_01:10:00')\n",
    "\n",
    "ter = getvar(wrfFile, 'ter')\n",
    "\n",
    "lats, lons = latlon_coords(ter)\n",
    "\n",
    "cart_proj = ccrs.LambertConformal(central_longitude=8.722206, \n",
    "                                    central_latitude=46.73585)\n",
    "\n",
    "fig = plt.figure(figsize=(15,10))\n",
    "ax = plt.axes(projection=cart_proj)\n",
    "\n",
    "ax.set_extent([5.9, 10.5, 45.75, 47.85])\n",
    "\n",
    "ax.contourf(to_np(lons), to_np(lats), to_np(ter), transform=ccrs.PlateCarree())\n",
    "\n",
    "for i in s5_ts[['index','xCoord','yCoord']].to_numpy():\n",
    "    ax.plot(i[1], i[2], 'wx', zorder=7, transform=ccrs.PlateCarree(), markersize=15)\n",
    "    ax.text(i[1], i[2], int(i[0]), zorder=7, transform=ccrs.PlateCarree(), fontsize=15, color='w')\n",
    "    \n",
    "ax.add_feature(cfeature.BORDERS.with_scale('10m'), zorder=5, \n",
    "               linewidth=1.5)\n",
    "plt.show()"
   ]
  },
  {
   "cell_type": "code",
   "execution_count": null,
   "metadata": {},
   "outputs": [],
   "source": []
  },
  {
   "cell_type": "code",
   "execution_count": null,
   "metadata": {},
   "outputs": [],
   "source": [
    "# Plot all initiations selected before\n",
    "wrfFile = Dataset('/scratch3/thomasl/work/data/case_study_1/wrfout_d02_2018-05-10_01:00:00')\n",
    "\n",
    "ter = getvar(wrfFile, 'ter')\n",
    "\n",
    "lats, lons = latlon_coords(ter)\n",
    "\n",
    "cart_proj = ccrs.LambertConformal(central_longitude=8.722206, \n",
    "                                    central_latitude=46.73585)\n",
    "\n",
    "fig = plt.figure(figsize=(15,10))\n",
    "ax = plt.axes(projection=cart_proj)\n",
    "\n",
    "ax.set_extent([5.9, 10.5, 45.75, 47.85])\n",
    "\n",
    "ax.contourf(to_np(lons), to_np(lats), to_np(ter), transform=ccrs.PlateCarree())\n",
    "    \n",
    "ax.plot(case_study_1['xCoord'], case_study_1['yCoord'], 'w*', zorder=7, transform=ccrs.PlateCarree(), markersize=15)\n",
    "ax.text(case_study_1['xCoord']+0.05, case_study_1['yCoord'], 'Case Study I', zorder=7, transform=ccrs.PlateCarree(), fontsize=15, color='w')\n",
    "\n",
    "ax.plot(case_study_2['xCoord'], case_study_2['yCoord'], 'w*', zorder=7, transform=ccrs.PlateCarree(), markersize=15)\n",
    "ax.text(case_study_2['xCoord']+0.05, case_study_2['yCoord'], 'Case Study II', zorder=7, transform=ccrs.PlateCarree(), fontsize=15, color='w')\n",
    "\n",
    "ax.plot(case_study_3['xCoord'], case_study_3['yCoord'], 'w*', zorder=7, transform=ccrs.PlateCarree(), markersize=15)\n",
    "ax.text(case_study_3['xCoord']+0.05, case_study_3['yCoord'], 'Case Study III', zorder=7, transform=ccrs.PlateCarree(), fontsize=15, color='w')\n",
    "\n",
    "ax.plot(case_study_4['xCoord'], case_study_4['yCoord'], 'w*', zorder=7, transform=ccrs.PlateCarree(), markersize=15)\n",
    "ax.text(case_study_4['xCoord']+0.05, case_study_4['yCoord'], 'Case Study IV', zorder=7, transform=ccrs.PlateCarree(), fontsize=15, color='w')\n",
    "\n",
    "ax.plot(case_study_5['xCoord'], case_study_5['yCoord'], 'w*', zorder=7, transform=ccrs.PlateCarree(), markersize=15)\n",
    "ax.text(case_study_5['xCoord']+0.05, case_study_5['yCoord'], 'Case Study V', zorder=7, transform=ccrs.PlateCarree(), fontsize=15, color='w')\n",
    "\n",
    "ax.add_feature(cfeature.BORDERS.with_scale('10m'), zorder=5, \n",
    "               linewidth=1.5)\n",
    "plt.show()\n",
    "\n",
    "#fig.savefig('initiations_30738', bbox_inches='tight', dpi=300)"
   ]
  },
  {
   "cell_type": "code",
   "execution_count": null,
   "metadata": {},
   "outputs": [],
   "source": []
  }
 ],
 "metadata": {
  "kernelspec": {
   "display_name": "Python [conda env:anaconda_three-lanz_env]",
   "language": "python",
   "name": "conda-env-anaconda_three-lanz_env-py"
  },
  "language_info": {
   "codemirror_mode": {
    "name": "ipython",
    "version": 3
   },
   "file_extension": ".py",
   "mimetype": "text/x-python",
   "name": "python",
   "nbconvert_exporter": "python",
   "pygments_lexer": "ipython3",
   "version": "3.7.3"
  }
 },
 "nbformat": 4,
 "nbformat_minor": 2
}
